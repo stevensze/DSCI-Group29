{
 "cells": [
  {
   "cell_type": "markdown",
   "metadata": {},
   "source": [
    "### Title : Relatioship between Rebound Data and Win Rate in NBA Games"
   ]
  },
  {
   "cell_type": "markdown",
   "metadata": {},
   "source": [
    "### Introduction:\n"
   ]
  },
  {
   "cell_type": "markdown",
   "metadata": {},
   "source": [
    "We will analyze the NBA games data for both home and away teams to see if there is any correlation between the number of rebounds and their win rate. In general, the team has more rebound shows that they have less chances to let their opponents score. Our questions will be: “Can we use rebound numbers to precisely predict the win rate of the teams?” \n",
    "\n",
    "We are using two data frames which are games data and teams data. First, we will combine the team name from teams data to the games data. Then, we will particularly look at “REB_home” and “REB_away”, which represent the rebound number of a game for both teams. Next, we will look at “HOME_TEAM_WINS”, which indicate the winning team. The “HOME_TEAM_ID” and “VISITOR_TEAM_ID” will be used to identify the team name.\n"
   ]
  },
  {
   "cell_type": "markdown",
   "metadata": {},
   "source": [
    "### Method"
   ]
  },
  {
   "cell_type": "markdown",
   "metadata": {},
   "source": [
    "Our dataset contains detailed statistics on each aspect of both the home and away team, including Field goal %, Free throw %, 3 point %, rebounds, and assists. Using K-nearest values, we want to see if we can predict the outcome of a game(which team wins) to a high degree of accuracy with one or multiple of these parameters. To do this we will be using the “Tidyverse” and “Tidymodels” library in jupiter to create a model. We will be cross validating our data by 5 folds to downplay the effect of randomness on our accuracy. First we will create and tune the model to find the K-nearest value to the highest degree of accuracy, then we will run the model with the K value found to assess the accuracy of the model critically to answer the question “Can the number of rebounds be used as an accurate predictor of a games outcome?” If the model works poorly or is not accurate, we will be increasing the parameters to include more than just rebounds, but also possibly Field goal %, Free throw % etc.  By the method of forward selection, we want to see if we can improve our model’s accuracy and usefulness. To visualize which K value yields the greatest accuracy, we will be using a line graph. We can visualize the correlation between rebounds and number of wins by creating a bar graph. The graph would include two columns,  one tallying the total number of games where the winner had more rebounds and the other tallying the number of games where the winner had less rebounds.\n",
    "There would also be a visualization in the form of a line graph showing the relationship between the number of predictors vs. accuracy for us to better understand what is the best number of predictors to include.\n"
   ]
  },
  {
   "cell_type": "markdown",
   "metadata": {},
   "source": [
    "### Expected outcomes and significance:"
   ]
  },
  {
   "cell_type": "markdown",
   "metadata": {},
   "source": [
    "We expect that a team having higher rebound numbers should have a higher win rate in the game. We want to find the accuracy and correlation between the rebound number and win rate. It provides the insight of how much effort an NBA team puts resources in finding a player who is good at taking rebound and how much training time should be invested in rebound training. If the correlation is high, obviously the team should put more time in the rebound training instead of other training like 3-points, free throw training. The future question can be the correlation between rebound and other game data to increase the accuracy of our model. For example, the rebound data may sometimes affect the points made in a game. "
   ]
  },
  {
   "cell_type": "markdown",
   "metadata": {},
   "source": [
    "### Preliminary exploratory data analysis:\n"
   ]
  },
  {
   "cell_type": "code",
   "execution_count": null,
   "metadata": {},
   "outputs": [],
   "source": []
  }
 ],
 "metadata": {
  "kernelspec": {
   "display_name": "R",
   "language": "R",
   "name": "ir"
  },
  "language_info": {
   "codemirror_mode": "r",
   "file_extension": ".r",
   "mimetype": "text/x-r-source",
   "name": "R",
   "pygments_lexer": "r",
   "version": "4.0.0"
  }
 },
 "nbformat": 4,
 "nbformat_minor": 4
}
